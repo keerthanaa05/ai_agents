{
 "cells": [
  {
   "cell_type": "code",
   "execution_count": null,
   "id": "348a0735",
   "metadata": {},
   "outputs": [],
   "source": [
    "print('hello')"
   ]
  },
  {
   "cell_type": "code",
   "execution_count": null,
   "id": "afcaaf41",
   "metadata": {},
   "outputs": [],
   "source": [
    "import streamlit as st\n",
    "import pandas as pd\n",
    "import os\n",
    "from dotenv import load_dotenv\n",
    "from pandasai.llm.base import LLM\n",
    "from pandasai import PandasAI\n",
    "import requests\n",
    "\n",
    "load_dotenv()\n",
    "groq_api_key = os.getenv('GROKCLOUD_API_KEY')  # Using your existing env variable\n",
    "\n",
    "# Custom LLM class for Groq\n",
    "class GroqLLM(LLM):\n",
    "    def __init__(self, api_token, model_name=\"llama3-70b-8192\"):\n",
    "        super().__init__()\n",
    "        self.api_token = api_token\n",
    "        self.model_name = model_name\n",
    "        self.api_base = \"https://api.groq.com/openai/v1\"\n",
    "\n",
    "    def completion(self, prompt, **kwargs):\n",
    "        headers = {\n",
    "            \"Content-Type\": \"application/json\",\n",
    "            \"Authorization\": f\"Bearer {self.api_token}\"\n",
    "        }\n",
    "        \n",
    "        data = {\n",
    "            \"model\": self.model_name,\n",
    "            \"messages\": [{\"role\": \"user\", \"content\": prompt}],\n",
    "            \"temperature\": 0.7\n",
    "        }\n",
    "        \n",
    "        response = requests.post(\n",
    "            f\"{self.api_base}/chat/completions\",\n",
    "            headers=headers,\n",
    "            json=data\n",
    "        )\n",
    "        \n",
    "        if response.status_code == 200:\n",
    "            return response.json()[\"choices\"][0][\"message\"][\"content\"]\n",
    "        else:\n",
    "            raise Exception(f\"Error from Groq API: {response.text}\")\n",
    "\n",
    "# function to query a csv file using pandasai and Groq\n",
    "def chat_with_csv(df, prompt):\n",
    "    llm = GroqLLM(api_token=groq_api_key)\n",
    "    pandas_ai = PandasAI(llm)\n",
    "    result = pandas_ai.run(df, prompt=prompt)\n",
    "    print(result)\n",
    "    return result\n",
    "\n",
    "st.set_page_config(layout='wide')\n",
    "st.title(\"ChatCSV powered by LLM (Groq)\")\n",
    "input_csv = st.file_uploader(\"Upload the CSV\", type=['csv'])\n",
    "\n",
    "if input_csv is not None:\n",
    "    col1, col2 = st.columns([1, 1])\n",
    "    with col1:\n",
    "        st.info(\"CSV Uploaded Successfully\")\n",
    "        data = pd.read_csv(input_csv)\n",
    "        st.dataframe(data)\n",
    "    with col2:\n",
    "        st.info(\"Chat with CSV\")\n",
    "        input_text = st.text_area(\"Enter your query\")\n",
    "        if input_text:\n",
    "            if st.button(\"Chat with CSV\"):\n",
    "                st.info(\"Your Query: \" + input_text)\n",
    "                result = chat_with_csv(data, input_text)\n",
    "                st.success(result)"
   ]
  },
  {
   "cell_type": "code",
   "execution_count": 1,
   "id": "6291a00f",
   "metadata": {},
   "outputs": [
    {
     "name": "stdout",
     "output_type": "stream",
     "text": [
      "1.23.5\n",
      "1.5.3\n"
     ]
    }
   ],
   "source": [
    "import numpy as np\n",
    "import pandas as pd\n",
    "import pandasai\n",
    "print(np.__version__)\n",
    "print(pd.__version__)\n"
   ]
  },
  {
   "cell_type": "code",
   "execution_count": 2,
   "id": "bf949ac7",
   "metadata": {},
   "outputs": [
    {
     "name": "stdout",
     "output_type": "stream",
     "text": [
      "numpy version: 1.23.5\n",
      "pandas version: 1.5.3\n",
      "pandasai version: <module 'pandasai.__version__' from '/home/hepl/Desktop/New_Folder/Keerthanaa/Keerthii/APR_2025/csv_chat/chat_csv/lib/python3.10/site-packages/pandasai/__version__.py'>\n",
      "streamlit version: 1.44.1\n"
     ]
    }
   ],
   "source": [
    "import numpy as np\n",
    "import pandas as pd\n",
    "import pandasai\n",
    "import streamlit\n",
    "\n",
    "print(f\"numpy version: {np.__version__}\")\n",
    "print(f\"pandas version: {pd.__version__}\")\n",
    "print(f\"pandasai version: {pandasai.__version__}\")\n",
    "print(f\"streamlit version: {streamlit.__version__}\")\n"
   ]
  },
  {
   "cell_type": "code",
   "execution_count": 3,
   "id": "fc1d67c0",
   "metadata": {},
   "outputs": [
    {
     "ename": "ImportError",
     "evalue": "cannot import name 'PandasAI' from 'pandasai' (/home/hepl/Desktop/New_Folder/Keerthanaa/Keerthii/APR_2025/csv_chat/chat_csv/lib/python3.10/site-packages/pandasai/__init__.py)",
     "output_type": "error",
     "traceback": [
      "\u001b[0;31m---------------------------------------------------------------------------\u001b[0m",
      "\u001b[0;31mImportError\u001b[0m                               Traceback (most recent call last)",
      "Cell \u001b[0;32mIn[3], line 1\u001b[0m\n\u001b[0;32m----> 1\u001b[0m \u001b[38;5;28;01mfrom\u001b[39;00m\u001b[38;5;250m \u001b[39m\u001b[38;5;21;01mpandasai\u001b[39;00m\u001b[38;5;250m \u001b[39m\u001b[38;5;28;01mimport\u001b[39;00m PandasAI\n",
      "\u001b[0;31mImportError\u001b[0m: cannot import name 'PandasAI' from 'pandasai' (/home/hepl/Desktop/New_Folder/Keerthanaa/Keerthii/APR_2025/csv_chat/chat_csv/lib/python3.10/site-packages/pandasai/__init__.py)"
     ]
    }
   ],
   "source": [
    "from pandasai import PandasAI\n"
   ]
  },
  {
   "cell_type": "code",
   "execution_count": 4,
   "id": "8b860060",
   "metadata": {},
   "outputs": [
    {
     "name": "stdout",
     "output_type": "stream",
     "text": [
      "['Agent', 'Cache', 'SmartDataframe', 'SmartDatalake', '__all__', '__builtins__', '__cached__', '__doc__', '__file__', '__loader__', '__name__', '__package__', '__path__', '__spec__', '__version__', 'agent', 'clear_cache', 'config', 'connectors', 'constants', 'engine', 'exceptions', 'helpers', 'llm', 'pandas', 'pipelines', 'prompts', 'pydantic', 'responses', 'safe_libs', 'schemas', 'set_pd_engine', 'skill', 'skills', 'smart_dataframe', 'smart_datalake', 'vectorstores']\n"
     ]
    }
   ],
   "source": [
    "import pandasai\n",
    "print(dir(pandasai))\n"
   ]
  },
  {
   "cell_type": "code",
   "execution_count": 5,
   "id": "4a99bad1",
   "metadata": {},
   "outputs": [],
   "source": [
    "from pandasai.smart_dataframe import SmartDataframe\n",
    "from pandasai.agent import Agent\n",
    "# or other available modules in pandasai\n"
   ]
  },
  {
   "cell_type": "code",
   "execution_count": 6,
   "id": "d133b3d4",
   "metadata": {},
   "outputs": [],
   "source": [
    "from pandasai.smart_dataframe import SmartDataframe"
   ]
  },
  {
   "cell_type": "code",
   "execution_count": null,
   "id": "96c4930c",
   "metadata": {},
   "outputs": [],
   "source": [
    "from pandasai.smart_dataframe import SmartDataframe\n",
    "\n",
    "# Assuming you have a pandas dataframe (df)\n",
    "df = pd.DataFrame({\n",
    "    \"A\": [1, 2, 3],\n",
    "    \"B\": [4, 5, 6]\n",
    "})\n",
    "\n",
    "smart_df = SmartDataframe(df)\n",
    "\n",
    "# Interact with the dataframe (example)\n",
    "result = smart_df.some_method()  # Replace with actual method\n",
    "print(result)\n"
   ]
  },
  {
   "cell_type": "code",
   "execution_count": 2,
   "id": "be4216e8",
   "metadata": {},
   "outputs": [
    {
     "ename": "ModuleNotFoundError",
     "evalue": "No module named 'pandasai.llm.grokcloud'",
     "output_type": "error",
     "traceback": [
      "\u001b[0;31m---------------------------------------------------------------------------\u001b[0m",
      "\u001b[0;31mModuleNotFoundError\u001b[0m                       Traceback (most recent call last)",
      "Cell \u001b[0;32mIn[2], line 1\u001b[0m\n\u001b[0;32m----> 1\u001b[0m \u001b[38;5;28;01mimport\u001b[39;00m\u001b[38;5;250m \u001b[39m\u001b[38;5;21;01mpandasai\u001b[39;00m\u001b[38;5;21;01m.\u001b[39;00m\u001b[38;5;21;01mllm\u001b[39;00m\u001b[38;5;21;01m.\u001b[39;00m\u001b[38;5;21;01mgrokcloud\u001b[39;00m\n",
      "\u001b[0;31mModuleNotFoundError\u001b[0m: No module named 'pandasai.llm.grokcloud'"
     ]
    }
   ],
   "source": [
    "import pandasai.llm.grokcloud\n"
   ]
  },
  {
   "cell_type": "code",
   "execution_count": 4,
   "id": "d36f8d7f",
   "metadata": {},
   "outputs": [
    {
     "ename": "ModuleNotFoundError",
     "evalue": "No module named 'pandasai.llm.grokcloud'",
     "output_type": "error",
     "traceback": [
      "\u001b[0;31m---------------------------------------------------------------------------\u001b[0m",
      "\u001b[0;31mModuleNotFoundError\u001b[0m                       Traceback (most recent call last)",
      "Cell \u001b[0;32mIn[4], line 1\u001b[0m\n\u001b[0;32m----> 1\u001b[0m \u001b[38;5;28;01mfrom\u001b[39;00m\u001b[38;5;250m \u001b[39m\u001b[38;5;21;01mpandasai\u001b[39;00m\u001b[38;5;21;01m.\u001b[39;00m\u001b[38;5;21;01mllm\u001b[39;00m\u001b[38;5;21;01m.\u001b[39;00m\u001b[38;5;21;01mgrokcloud\u001b[39;00m\u001b[38;5;250m \u001b[39m\u001b[38;5;28;01mimport\u001b[39;00m GrokCloud\n\u001b[1;32m      2\u001b[0m \u001b[38;5;28;01mfrom\u001b[39;00m\u001b[38;5;250m \u001b[39m\u001b[38;5;21;01mpandasai\u001b[39;00m\u001b[38;5;21;01m.\u001b[39;00m\u001b[38;5;21;01mllm\u001b[39;00m\u001b[38;5;21;01m.\u001b[39;00m\u001b[38;5;21;01mgrokcloud\u001b[39;00m\u001b[38;5;250m \u001b[39m\u001b[38;5;28;01mimport\u001b[39;00m GrokCloud\n",
      "\u001b[0;31mModuleNotFoundError\u001b[0m: No module named 'pandasai.llm.grokcloud'"
     ]
    }
   ],
   "source": [
    "from pandasai.llm.grokcloud import GrokCloud\n",
    "from pandasai.llm.grokcloud import GrokCloud\n"
   ]
  },
  {
   "cell_type": "code",
   "execution_count": null,
   "id": "4c870428",
   "metadata": {},
   "outputs": [],
   "source": [
    "import streamlit as st\n",
    "import pandas as pd\n",
    "import os\n",
    "from dotenv import load_dotenv\n",
    "from pandasai import SmartDataframe\n",
    "from langchain_groq.chat_models import ChatGroq  # Import the ChatGroq model\n",
    "\n",
    "# Load environment variables\n",
    "load_dotenv()\n",
    "grokcloud_api_key = os.getenv('GROKCLOUD_API_KEY')\n",
    "\n",
    "def chat_with_csv(df, prompt):\n",
    "    # Load the CSV data into a dataframe\n",
    "    data = pd.read_csv(df)\n",
    "    \n",
    "    # Initialize the ChatGroq model\n",
    "    chat_model = ChatGroq(model_name='llama-3.3-70b-versatile', api_key=grokcloud_api_key)\n",
    "    \n",
    "    # Create a SmartDataframe with the ChatGroq model in the config\n",
    "    df = SmartDataframe(data, config={'llm': chat_model})\n",
    "\n",
    "    # Chat with the dataframe using the prompt\n",
    "    result = df.chat(prompt)\n",
    "    \n",
    "    print(result)\n",
    "    return result\n",
    "\n",
    "# Streamlit UI configuration\n",
    "st.set_page_config(layout='wide')\n",
    "st.title(\"ChatCSV powered by LLM (GrokCloud)\")\n",
    "\n",
    "# File uploader for CSV input\n",
    "input_csv = st.file_uploader(\"Upload the CSV\", type=['csv'])\n",
    "\n",
    "if input_csv is not None:\n",
    "    col1, col2 = st.columns([1, 1])\n",
    "\n",
    "    # Display the uploaded CSV\n",
    "    with col1:\n",
    "        st.info(\"CSV Uploaded Successfully\")\n",
    "        data = pd.read_csv(input_csv)\n",
    "        st.dataframe(data)\n",
    "\n",
    "    # Chat interface\n",
    "    with col2:\n",
    "        st.info(\"Chat with CSV\")   \n",
    "        input_text = st.text_area(\"Enter your query\")\n",
    "        if input_text:\n",
    "            if st.button(\"Chat with CSV\"):\n",
    "                st.info(\"Your Query: \" + input_text)\n",
    "                result = chat_with_csv(input_csv, input_text)\n",
    "                st.success(result)\n"
   ]
  },
  {
   "cell_type": "code",
   "execution_count": 8,
   "id": "da7c10c8",
   "metadata": {},
   "outputs": [],
   "source": [
    "import pandas as pd\n",
    "\n",
    "\n",
    "df = pd.read_csv('/home/hepl/Downloads/products_clean (1).csv')\n",
    "\n",
    "xl = df.head(10)\n",
    "\n",
    "xl.to_excel(\"chat.xlsx\")"
   ]
  },
  {
   "cell_type": "code",
   "execution_count": 6,
   "id": "f1d67979",
   "metadata": {},
   "outputs": [
    {
     "data": {
      "text/plain": [
       "product_type\n",
       "eye_makeup     367\n",
       "lipstic        178\n",
       "foundation     159\n",
       "contour        144\n",
       "nail_polish     60\n",
       "dtype: int64"
      ]
     },
     "execution_count": 6,
     "metadata": {},
     "output_type": "execute_result"
    }
   ],
   "source": [
    "df.value_counts(df['product_type'])"
   ]
  },
  {
   "cell_type": "code",
   "execution_count": 7,
   "id": "dba246f1",
   "metadata": {},
   "outputs": [
    {
     "name": "stdout",
     "output_type": "stream",
     "text": [
      "Before function call\n",
      "Hello!\n",
      "After function call\n"
     ]
    }
   ],
   "source": [
    "def decorator(func):\n",
    "    def wrapper():\n",
    "        print(\"Before function call\")\n",
    "        func()\n",
    "        print(\"After function call\")\n",
    "    return wrapper\n",
    "\n",
    "@decorator\n",
    "def say_hello():\n",
    "    print(\"Hello!\")\n",
    "\n",
    "say_hello()\n"
   ]
  },
  {
   "cell_type": "code",
   "execution_count": null,
   "id": "2e103a8c",
   "metadata": {},
   "outputs": [
    {
     "name": "stdout",
     "output_type": "stream",
     "text": [
      "1\n"
     ]
    }
   ],
   "source": [
    "input_text = 'remove null'\n",
    "\n",
    "if input_text:\n",
    "    if (\"remove\" or \"remove null\"  in input_text:\n",
    "        print(1)"
   ]
  },
  {
   "cell_type": "code",
   "execution_count": null,
   "id": "39e028ce",
   "metadata": {},
   "outputs": [],
   "source": []
  }
 ],
 "metadata": {
  "kernelspec": {
   "display_name": "chat_csv",
   "language": "python",
   "name": "python3"
  },
  "language_info": {
   "codemirror_mode": {
    "name": "ipython",
    "version": 3
   },
   "file_extension": ".py",
   "mimetype": "text/x-python",
   "name": "python",
   "nbconvert_exporter": "python",
   "pygments_lexer": "ipython3",
   "version": "3.10.12"
  }
 },
 "nbformat": 4,
 "nbformat_minor": 5
}
